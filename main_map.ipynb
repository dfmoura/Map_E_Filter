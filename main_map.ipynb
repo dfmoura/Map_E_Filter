{
 "cells": [
  {
   "cell_type": "code",
   "execution_count": 1,
   "id": "f692d48b",
   "metadata": {},
   "outputs": [
    {
     "name": "stdout",
     "output_type": "stream",
     "text": [
      "[5000, 9900.0, 2000, 16500.0]\n"
     ]
    }
   ],
   "source": [
    "precos_produtos = [\n",
    "    5000,\n",
    "    9000,\n",
    "    2000,\n",
    "    15000,\n",
    "]\n",
    "\n",
    "def aplicar_aumento(preco):\n",
    "    if preco > 6000:\n",
    "        return preco * 1.1\n",
    "    else:\n",
    "        return preco\n",
    "\n",
    "\n",
    "# No map voce passa a função que voce quer executar e a lista de itens que ele vai percorrer\n",
    "# obrigatoriamente deve receber um parametro\n",
    "# em resumo ele pegara qualquer iterable (algo que cosiga percorrer) passando item a item.\n",
    "# importante destacar que o resultado será um item bruto, um objeto do python... por isso, utiliza-se o list\n",
    "# para transformar em lista\n",
    "# a funcao no map retorna o valor\n",
    "\n",
    "precos_produtos = list(map(aplicar_aumento, precos_produtos))\n",
    "print(precos_produtos)"
   ]
  },
  {
   "cell_type": "code",
   "execution_count": null,
   "id": "aa7307a2",
   "metadata": {},
   "outputs": [],
   "source": []
  }
 ],
 "metadata": {
  "kernelspec": {
   "display_name": "Python 3 (ipykernel)",
   "language": "python",
   "name": "python3"
  },
  "language_info": {
   "codemirror_mode": {
    "name": "ipython",
    "version": 3
   },
   "file_extension": ".py",
   "mimetype": "text/x-python",
   "name": "python",
   "nbconvert_exporter": "python",
   "pygments_lexer": "ipython3",
   "version": "3.9.12"
  }
 },
 "nbformat": 4,
 "nbformat_minor": 5
}
