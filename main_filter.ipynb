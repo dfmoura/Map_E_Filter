{
 "cells": [
  {
   "cell_type": "code",
   "execution_count": 1,
   "id": "347e892d",
   "metadata": {},
   "outputs": [
    {
     "name": "stdout",
     "output_type": "stream",
     "text": [
      "[9000, 15000]\n"
     ]
    }
   ],
   "source": [
    "# Utilizar quando tem a necessilidade de filtrar os itens que corrempondem a uma condição\n",
    "# Para executar recebe uma função, informa os valores, o valor será aplicado no filter, o\n",
    "# filter irá passar os paramentros (sem os parenteses) na lista onde será aplicado.\n",
    "# o filter retorna o verdadeiro ou falso\n",
    "\n",
    "precos_produtos = [\n",
    "    5000,\n",
    "    9000,\n",
    "    2000,\n",
    "    15000,\n",
    "]\n",
    "\n",
    "def aplicar_aumento(preco):\n",
    "    if preco > 6000:\n",
    "        return True\n",
    "    else:\n",
    "        return False\n",
    "\n",
    "precos_produtos = list(filter(aplicar_aumento, precos_produtos))\n",
    "print(precos_produtos)"
   ]
  },
  {
   "cell_type": "code",
   "execution_count": null,
   "id": "adfab6f3",
   "metadata": {},
   "outputs": [],
   "source": []
  }
 ],
 "metadata": {
  "kernelspec": {
   "display_name": "Python 3 (ipykernel)",
   "language": "python",
   "name": "python3"
  },
  "language_info": {
   "codemirror_mode": {
    "name": "ipython",
    "version": 3
   },
   "file_extension": ".py",
   "mimetype": "text/x-python",
   "name": "python",
   "nbconvert_exporter": "python",
   "pygments_lexer": "ipython3",
   "version": "3.9.12"
  }
 },
 "nbformat": 4,
 "nbformat_minor": 5
}
